{
 "cells": [
  {
   "cell_type": "code",
   "execution_count": 3,
   "metadata": {},
   "outputs": [
    {
     "name": "stdout",
     "output_type": "stream",
     "text": [
      "WARNING:tensorflow:No training configuration found in the save file, so the model was *not* compiled. Compile it manually.\n"
     ]
    }
   ],
   "source": [
    "import cv2\n",
    "from keras.models import load_model\n",
    "import numpy as np\n",
    "model = load_model('keras_model.h5')\n",
    "cap = cv2.VideoCapture(0)\n",
    "data = np.ndarray(shape=(1, 224, 224, 3), dtype=np.float32)"
   ]
  },
  {
   "cell_type": "markdown",
   "metadata": {},
   "source": [
    "Original code to print the output prediction"
   ]
  },
  {
   "cell_type": "code",
   "execution_count": 4,
   "metadata": {},
   "outputs": [
    {
     "name": "stdout",
     "output_type": "stream",
     "text": [
      "[[5.2060891e-04 9.9850488e-01 2.7712696e-07 9.7423798e-04]]\n",
      "[[6.4063976e-03 8.6232340e-01 8.1779966e-05 1.3118848e-01]]\n",
      "[[1.9512275e-03 9.9408698e-01 9.2927837e-07 3.9609037e-03]]\n",
      "[[3.1251961e-03 9.9579251e-01 9.6948713e-07 1.0813075e-03]]\n",
      "[[1.7573524e-03 9.9655980e-01 4.8443491e-07 1.6822568e-03]]\n",
      "[[2.3553378e-04 9.9829203e-01 5.4074894e-07 1.4718785e-03]]\n",
      "[[2.4233023e-03 9.9626899e-01 2.2319887e-06 1.3054316e-03]]\n",
      "[[4.1307099e-03 9.9207121e-01 3.3147467e-06 3.7947246e-03]]\n",
      "[[2.6145184e-03 9.9573612e-01 7.4034784e-07 1.6486904e-03]]\n",
      "[[6.8147318e-04 9.9917573e-01 3.8818612e-08 1.4268796e-04]]\n",
      "[[3.0564965e-04 9.9955469e-01 2.0970122e-08 1.3970326e-04]]\n",
      "[[1.16563395e-04 9.99609292e-01 9.70852554e-08 2.74093472e-04]]\n",
      "[[3.1430859e-04 9.9892163e-01 2.0284122e-07 7.6392613e-04]]\n",
      "[[1.18694385e-04 9.99601424e-01 4.30513296e-08 2.79957720e-04]]\n",
      "[[5.5216922e-04 9.9805021e-01 3.1814955e-07 1.3972792e-03]]\n",
      "[[1.7650137e-03 9.9626464e-01 1.1977415e-06 1.9690618e-03]]\n",
      "[[5.6107673e-03 9.9194497e-01 8.7471471e-07 2.4433839e-03]]\n",
      "[[3.3600961e-03 9.8007512e-01 5.0717188e-07 1.6564244e-02]]\n",
      "[[1.3871538e-03 9.9159288e-01 1.4664465e-06 7.0184893e-03]]\n",
      "[[3.2450128e-04 9.9822313e-01 6.6292896e-06 1.4457125e-03]]\n",
      "[[3.8214291e-03 9.7558212e-01 7.9681540e-06 2.0588491e-02]]\n",
      "[[3.7689980e-03 9.9123985e-01 6.4065136e-07 4.9905381e-03]]\n",
      "[[8.0247154e-04 9.9823403e-01 1.1995228e-07 9.6329977e-04]]\n",
      "[[1.4487952e-03 9.9656940e-01 5.0560294e-07 1.9813119e-03]]\n",
      "[[5.8561360e-04 9.9582326e-01 2.6042153e-06 3.5885482e-03]]\n",
      "[[6.3893938e-04 9.9571580e-01 4.2760939e-06 3.6409993e-03]]\n",
      "[[2.7252890e-03 9.8245656e-01 8.8985153e-06 1.4809173e-02]]\n",
      "[[2.4963962e-04 9.9924493e-01 1.1938939e-06 5.0425320e-04]]\n",
      "[[9.6870688e-05 9.9906343e-01 1.8153034e-06 8.3788316e-04]]\n",
      "[[7.6974445e-04 9.9788433e-01 3.9550168e-06 1.3420132e-03]]\n",
      "[[9.9398394e-04 9.9729449e-01 6.0018147e-06 1.7054986e-03]]\n",
      "[[4.0201633e-04 9.9926788e-01 7.0116636e-07 3.2937728e-04]]\n",
      "[[3.3311795e-03 9.7824258e-01 2.6805697e-06 1.8423650e-02]]\n",
      "[[4.7576724e-04 9.9607432e-01 2.6199223e-06 3.4472996e-03]]\n",
      "[[4.0929014e-04 9.9848491e-01 2.4978515e-06 1.1032606e-03]]\n",
      "[[2.1891348e-05 9.9995482e-01 4.5081823e-08 2.3247105e-05]]\n",
      "[[1.9049725e-04 9.9974185e-01 1.2567901e-07 6.7631401e-05]]\n",
      "[[1.0999415e-02 9.8853278e-01 2.7152806e-05 4.4060350e-04]]\n",
      "[[5.8533396e-03 9.9398321e-01 3.8331241e-06 1.5966043e-04]]\n",
      "[[4.8619762e-01 5.1275605e-01 5.6392624e-04 4.8241488e-04]]\n",
      "[[8.1667900e-01 1.8266423e-01 6.2078633e-04 3.6005582e-05]]\n",
      "[[6.6761047e-01 3.3224139e-01 1.8441076e-05 1.2973971e-04]]\n",
      "[[9.5047873e-01 4.8992656e-02 2.6434610e-04 2.6421959e-04]]\n",
      "[[7.5150006e-02 3.8502771e-02 8.8632250e-01 2.4756235e-05]]\n",
      "[[7.7867383e-01 5.5990886e-02 1.6528052e-01 5.4762404e-05]]\n",
      "[[9.1445476e-01 2.5605569e-03 8.2975119e-02 9.5910682e-06]]\n",
      "[[8.9355838e-01 9.2768878e-02 1.3662905e-02 9.8035516e-06]]\n",
      "[[3.5214052e-01 3.4771320e-01 3.0011955e-01 2.6765660e-05]]\n",
      "[[3.3151251e-01 2.8031808e-01 3.8816416e-01 5.3054555e-06]]\n",
      "[[1.3256826e-01 9.3462341e-02 7.7395916e-01 1.0294183e-05]]\n",
      "[[3.1684685e-01 4.5425218e-02 6.3768315e-01 4.4770779e-05]]\n",
      "[[4.7387189e-01 1.4462517e-01 3.8146082e-01 4.2197829e-05]]\n",
      "[[8.35671961e-01 5.81780672e-02 1.06089674e-01 6.02776963e-05]]\n",
      "[[2.9443622e-01 1.7579101e-02 6.8786722e-01 1.1747931e-04]]\n",
      "[[1.0165567e-02 2.2955680e-02 9.6685445e-01 2.4304340e-05]]\n",
      "[[3.40188574e-03 3.35637070e-02 9.63020980e-01 1.34268075e-05]]\n",
      "[[3.0426122e-03 6.3144632e-02 9.3380171e-01 1.0969841e-05]]\n",
      "[[2.1574169e-02 9.4732001e-02 8.8364947e-01 4.4362776e-05]]\n",
      "[[5.5668526e-03 1.4061583e-02 9.8031896e-01 5.2530966e-05]]\n",
      "[[6.0682967e-02 3.3797614e-02 9.0539521e-01 1.2416944e-04]]\n",
      "[[4.8035406e-02 4.6810592e-03 9.4707108e-01 2.1248299e-04]]\n",
      "[[7.3002078e-02 1.1805406e-01 8.0860442e-01 3.3936204e-04]]\n",
      "[[1.95923541e-02 7.62575716e-02 9.04035211e-01 1.14878676e-04]]\n",
      "[[3.3697898e-03 1.3827652e-01 8.5833073e-01 2.2871742e-05]]\n",
      "[[1.3458489e-01 8.1567580e-01 4.9655572e-02 8.3721890e-05]]\n",
      "[[1.0346145e-01 2.7472058e-01 6.2177718e-01 4.0776675e-05]]\n",
      "[[2.1496524e-01 6.6284931e-01 1.2212790e-01 5.7487825e-05]]\n",
      "[[1.0674405e-01 4.4907394e-01 4.4397759e-01 2.0440404e-04]]\n",
      "[[3.5828121e-02 9.4830745e-01 1.5847655e-02 1.6869355e-05]]\n",
      "[[1.9854729e-01 3.0978522e-01 4.9151033e-01 1.5712826e-04]]\n",
      "[[2.8984422e-02 7.4698788e-01 2.2398600e-01 4.1787251e-05]]\n",
      "[[8.5503089e-01 9.7800992e-02 4.6891876e-02 2.7624407e-04]]\n",
      "[[8.1631649e-01 1.6113329e-01 2.2104874e-02 4.4539280e-04]]\n",
      "[[0.30437002 0.20003304 0.49424735 0.00134964]]\n",
      "[[0.3215776  0.07673551 0.59765065 0.00403625]]\n",
      "[[0.753985   0.00799217 0.23662503 0.00139781]]\n",
      "[[7.4079812e-02 1.9396164e-02 9.0575379e-01 7.7019760e-04]]\n",
      "[[2.0256175e-02 6.2959798e-02 9.1675031e-01 3.3679749e-05]]\n",
      "[[3.1123977e-02 6.0517229e-02 9.0815878e-01 2.0006747e-04]]\n",
      "[[5.2813143e-02 3.5475206e-01 5.9230399e-01 1.3083703e-04]]\n",
      "[[8.9235669e-03 2.8910622e-02 9.6212816e-01 3.7641094e-05]]\n",
      "[[5.8793859e-03 2.0047745e-01 7.9347384e-01 1.6925810e-04]]\n",
      "[[8.7382831e-02 1.8010816e-02 8.9434648e-01 2.5980108e-04]]\n",
      "[[4.5886617e-02 3.1117149e-02 9.2214131e-01 8.5491163e-04]]\n",
      "[[1.0375553e-01 1.6544828e-02 8.7910372e-01 5.9590669e-04]]\n",
      "[[5.2129328e-02 6.3756257e-03 9.4125956e-01 2.3545124e-04]]\n",
      "[[0.06562703 0.01154792 0.9218708  0.00095424]]\n",
      "[[2.7822761e-02 1.5777286e-02 9.5607370e-01 3.2625403e-04]]\n",
      "[[0.04522601 0.04210889 0.9115078  0.00115731]]\n",
      "[[0.05936803 0.11049845 0.8288457  0.00128782]]\n",
      "[[0.01715675 0.04994548 0.9303109  0.00258692]]\n",
      "[[7.3831738e-03 5.2075919e-02 9.3992966e-01 6.1123137e-04]]\n",
      "[[9.5705390e-03 2.6915832e-03 9.8739362e-01 3.4413644e-04]]\n",
      "[[1.0285156e-02 2.6891991e-03 9.8694336e-01 8.2180435e-05]]\n",
      "[[7.0535147e-01 1.9973117e-01 9.4863147e-02 5.4247499e-05]]\n",
      "[[1.7446619e-01 8.2298261e-01 2.4434880e-03 1.0771359e-04]]\n",
      "[[5.3424081e-03 9.9448848e-01 5.6737103e-06 1.6331904e-04]]\n",
      "[[3.6614871e-05 9.9995923e-01 1.1262721e-07 4.0357195e-06]]\n",
      "[[3.9444943e-03 9.9595803e-01 2.5215862e-05 7.2359835e-05]]\n",
      "[[8.1469206e-04 9.9907494e-01 6.3198777e-06 1.0402981e-04]]\n"
     ]
    }
   ],
   "source": [
    "while True: \n",
    "    ret, frame = cap.read()\n",
    "    resized_frame = cv2.resize(frame, (224, 224), interpolation = cv2.INTER_AREA)\n",
    "    image_np = np.array(resized_frame)\n",
    "    normalized_image = (image_np.astype(np.float32) / 127.0) - 1 # Normalize the image\n",
    "    data[0] = normalized_image\n",
    "    prediction = model.predict(data)\n",
    "    cv2.imshow('frame', frame)\n",
    "    # Press q to close the window\n",
    "    print(prediction)\n",
    "    if cv2.waitKey(1) & 0xFF == ord('q'):\n",
    "        break\n",
    "            \n",
    "# After the loop release the cap object\n",
    "cap.release()\n",
    "# Destroy all the windows\n",
    "cv2.destroyAllWindows()"
   ]
  },
  {
   "cell_type": "markdown",
   "metadata": {},
   "source": [
    "Testing to produce an output value from the above script"
   ]
  },
  {
   "cell_type": "code",
   "execution_count": 5,
   "metadata": {},
   "outputs": [],
   "source": [
    "def get_prediction():\n",
    "\n",
    "    model = load_model('keras_model.h5')\n",
    "    cap = cv2.VideoCapture(0)\n",
    "    data = np.ndarray(shape=(1, 224, 224, 3), dtype=np.float32)\n",
    "\n",
    "    output = []\n",
    "    \n",
    "    while True:\n",
    "        ret, frame = cap.read()\n",
    "        resized_frame = cv2.resize(frame, (224, 224), interpolation = cv2.INTER_AREA)\n",
    "        image_np = np.array(resized_frame)\n",
    "        normalized_image = (image_np.astype(np.float32) / 127.0) - 1 # Normalize the image\n",
    "        data[0] = normalized_image\n",
    "        prediction = model.predict(data)\n",
    "        cv2.imshow('frame', frame)\n",
    "        # Press q to close the window\n",
    "        output = prediction\n",
    "        break\n",
    "    return output"
   ]
  },
  {
   "cell_type": "code",
   "execution_count": 6,
   "metadata": {},
   "outputs": [
    {
     "ename": "error",
     "evalue": "OpenCV(4.5.5) /Users/runner/work/opencv-python/opencv-python/opencv/modules/imgproc/src/resize.cpp:4052: error: (-215:Assertion failed) !ssize.empty() in function 'resize'\n",
     "output_type": "error",
     "traceback": [
      "\u001b[0;31m---------------------------------------------------------------------------\u001b[0m",
      "\u001b[0;31merror\u001b[0m                                     Traceback (most recent call last)",
      "\u001b[1;32m/Users/jackie/scratch/Computer_Vision-Rock_Paper_Scissors/test.ipynb Cell 6'\u001b[0m in \u001b[0;36m<cell line: 1>\u001b[0;34m()\u001b[0m\n\u001b[0;32m----> <a href='vscode-notebook-cell:/Users/jackie/scratch/Computer_Vision-Rock_Paper_Scissors/test.ipynb#ch0000009?line=0'>1</a>\u001b[0m get_prediction()\n",
      "\u001b[1;32m/Users/jackie/scratch/Computer_Vision-Rock_Paper_Scissors/test.ipynb Cell 5'\u001b[0m in \u001b[0;36mget_prediction\u001b[0;34m()\u001b[0m\n\u001b[1;32m      <a href='vscode-notebook-cell:/Users/jackie/scratch/Computer_Vision-Rock_Paper_Scissors/test.ipynb#ch0000004?line=4'>5</a>\u001b[0m \u001b[39mwhile\u001b[39;00m \u001b[39mTrue\u001b[39;00m:\n\u001b[1;32m      <a href='vscode-notebook-cell:/Users/jackie/scratch/Computer_Vision-Rock_Paper_Scissors/test.ipynb#ch0000004?line=5'>6</a>\u001b[0m     ret, frame \u001b[39m=\u001b[39m cap\u001b[39m.\u001b[39mread()\n\u001b[0;32m----> <a href='vscode-notebook-cell:/Users/jackie/scratch/Computer_Vision-Rock_Paper_Scissors/test.ipynb#ch0000004?line=6'>7</a>\u001b[0m     resized_frame \u001b[39m=\u001b[39m cv2\u001b[39m.\u001b[39;49mresize(frame, (\u001b[39m224\u001b[39;49m, \u001b[39m224\u001b[39;49m), interpolation \u001b[39m=\u001b[39;49m cv2\u001b[39m.\u001b[39;49mINTER_AREA)\n\u001b[1;32m      <a href='vscode-notebook-cell:/Users/jackie/scratch/Computer_Vision-Rock_Paper_Scissors/test.ipynb#ch0000004?line=7'>8</a>\u001b[0m     image_np \u001b[39m=\u001b[39m np\u001b[39m.\u001b[39marray(resized_frame)\n\u001b[1;32m      <a href='vscode-notebook-cell:/Users/jackie/scratch/Computer_Vision-Rock_Paper_Scissors/test.ipynb#ch0000004?line=8'>9</a>\u001b[0m     normalized_image \u001b[39m=\u001b[39m (image_np\u001b[39m.\u001b[39mastype(np\u001b[39m.\u001b[39mfloat32) \u001b[39m/\u001b[39m \u001b[39m127.0\u001b[39m) \u001b[39m-\u001b[39m \u001b[39m1\u001b[39m \u001b[39m# Normalize the image\u001b[39;00m\n",
      "\u001b[0;31merror\u001b[0m: OpenCV(4.5.5) /Users/runner/work/opencv-python/opencv-python/opencv/modules/imgproc/src/resize.cpp:4052: error: (-215:Assertion failed) !ssize.empty() in function 'resize'\n"
     ]
    }
   ],
   "source": [
    "get_prediction()"
   ]
  },
  {
   "cell_type": "code",
   "execution_count": null,
   "metadata": {},
   "outputs": [],
   "source": []
  }
 ],
 "metadata": {
  "interpreter": {
   "hash": "c6d975adb548b10ed8e9561a1eaa1096ff4945e76d32410791e65619c2cf5596"
  },
  "kernelspec": {
   "display_name": "Python 3.9.12 ('CV_project')",
   "language": "python",
   "name": "python3"
  },
  "language_info": {
   "codemirror_mode": {
    "name": "ipython",
    "version": 3
   },
   "file_extension": ".py",
   "mimetype": "text/x-python",
   "name": "python",
   "nbconvert_exporter": "python",
   "pygments_lexer": "ipython3",
   "version": "3.9.12"
  },
  "orig_nbformat": 4
 },
 "nbformat": 4,
 "nbformat_minor": 2
}
